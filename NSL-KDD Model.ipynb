{
 "cells": [
  {
   "cell_type": "code",
   "execution_count": 2,
   "id": "2bc0d0ed",
   "metadata": {
    "execution": {
     "iopub.execute_input": "2023-05-16T17:09:36.498391Z",
     "iopub.status.busy": "2023-05-16T17:09:36.498039Z",
     "iopub.status.idle": "2023-05-16T17:09:37.157696Z",
     "shell.execute_reply": "2023-05-16T17:09:37.156663Z",
     "shell.execute_reply.started": "2023-05-16T17:09:36.498363Z"
    }
   },
   "outputs": [
    {
     "name": "stderr",
     "output_type": "stream",
     "text": [
      "2024-02-15 00:48:38.671921: I tensorflow/core/platform/cpu_feature_guard.cc:182] This TensorFlow binary is optimized to use available CPU instructions in performance-critical operations.\n",
      "To enable the following instructions: SSE4.1 SSE4.2 AVX, in other operations, rebuild TensorFlow with the appropriate compiler flags.\n"
     ]
    },
    {
     "data": {
      "text/html": [
       "<div>\n",
       "<style scoped>\n",
       "    .dataframe tbody tr th:only-of-type {\n",
       "        vertical-align: middle;\n",
       "    }\n",
       "\n",
       "    .dataframe tbody tr th {\n",
       "        vertical-align: top;\n",
       "    }\n",
       "\n",
       "    .dataframe thead th {\n",
       "        text-align: right;\n",
       "    }\n",
       "</style>\n",
       "<table border=\"1\" class=\"dataframe\">\n",
       "  <thead>\n",
       "    <tr style=\"text-align: right;\">\n",
       "      <th></th>\n",
       "      <th>duration</th>\n",
       "      <th>protocol_type</th>\n",
       "      <th>service</th>\n",
       "      <th>flag</th>\n",
       "      <th>src_bytes</th>\n",
       "      <th>dst_bytes</th>\n",
       "      <th>land</th>\n",
       "      <th>wrong_fragment</th>\n",
       "      <th>urgent</th>\n",
       "      <th>hot</th>\n",
       "      <th>...</th>\n",
       "      <th>dst_host_same_srv_rate</th>\n",
       "      <th>dst_host_diff_srv_rate</th>\n",
       "      <th>dst_host_same_src_port_rate</th>\n",
       "      <th>dst_host_srv_diff_host_rate</th>\n",
       "      <th>dst_host_serror_rate</th>\n",
       "      <th>dst_host_srv_serror_rate</th>\n",
       "      <th>dst_host_rerror_rate</th>\n",
       "      <th>dst_host_srv_rerror_rate</th>\n",
       "      <th>outcome</th>\n",
       "      <th>level</th>\n",
       "    </tr>\n",
       "  </thead>\n",
       "  <tbody>\n",
       "    <tr>\n",
       "      <th>0</th>\n",
       "      <td>0</td>\n",
       "      <td>tcp</td>\n",
       "      <td>ftp_data</td>\n",
       "      <td>SF</td>\n",
       "      <td>491</td>\n",
       "      <td>0</td>\n",
       "      <td>0</td>\n",
       "      <td>0</td>\n",
       "      <td>0</td>\n",
       "      <td>0</td>\n",
       "      <td>...</td>\n",
       "      <td>0.17</td>\n",
       "      <td>0.03</td>\n",
       "      <td>0.17</td>\n",
       "      <td>0.00</td>\n",
       "      <td>0.00</td>\n",
       "      <td>0.00</td>\n",
       "      <td>0.05</td>\n",
       "      <td>0.00</td>\n",
       "      <td>normal</td>\n",
       "      <td>20</td>\n",
       "    </tr>\n",
       "    <tr>\n",
       "      <th>1</th>\n",
       "      <td>0</td>\n",
       "      <td>udp</td>\n",
       "      <td>other</td>\n",
       "      <td>SF</td>\n",
       "      <td>146</td>\n",
       "      <td>0</td>\n",
       "      <td>0</td>\n",
       "      <td>0</td>\n",
       "      <td>0</td>\n",
       "      <td>0</td>\n",
       "      <td>...</td>\n",
       "      <td>0.00</td>\n",
       "      <td>0.60</td>\n",
       "      <td>0.88</td>\n",
       "      <td>0.00</td>\n",
       "      <td>0.00</td>\n",
       "      <td>0.00</td>\n",
       "      <td>0.00</td>\n",
       "      <td>0.00</td>\n",
       "      <td>normal</td>\n",
       "      <td>15</td>\n",
       "    </tr>\n",
       "    <tr>\n",
       "      <th>2</th>\n",
       "      <td>0</td>\n",
       "      <td>tcp</td>\n",
       "      <td>private</td>\n",
       "      <td>S0</td>\n",
       "      <td>0</td>\n",
       "      <td>0</td>\n",
       "      <td>0</td>\n",
       "      <td>0</td>\n",
       "      <td>0</td>\n",
       "      <td>0</td>\n",
       "      <td>...</td>\n",
       "      <td>0.10</td>\n",
       "      <td>0.05</td>\n",
       "      <td>0.00</td>\n",
       "      <td>0.00</td>\n",
       "      <td>1.00</td>\n",
       "      <td>1.00</td>\n",
       "      <td>0.00</td>\n",
       "      <td>0.00</td>\n",
       "      <td>neptune</td>\n",
       "      <td>19</td>\n",
       "    </tr>\n",
       "    <tr>\n",
       "      <th>3</th>\n",
       "      <td>0</td>\n",
       "      <td>tcp</td>\n",
       "      <td>http</td>\n",
       "      <td>SF</td>\n",
       "      <td>232</td>\n",
       "      <td>8153</td>\n",
       "      <td>0</td>\n",
       "      <td>0</td>\n",
       "      <td>0</td>\n",
       "      <td>0</td>\n",
       "      <td>...</td>\n",
       "      <td>1.00</td>\n",
       "      <td>0.00</td>\n",
       "      <td>0.03</td>\n",
       "      <td>0.04</td>\n",
       "      <td>0.03</td>\n",
       "      <td>0.01</td>\n",
       "      <td>0.00</td>\n",
       "      <td>0.01</td>\n",
       "      <td>normal</td>\n",
       "      <td>21</td>\n",
       "    </tr>\n",
       "    <tr>\n",
       "      <th>4</th>\n",
       "      <td>0</td>\n",
       "      <td>tcp</td>\n",
       "      <td>http</td>\n",
       "      <td>SF</td>\n",
       "      <td>199</td>\n",
       "      <td>420</td>\n",
       "      <td>0</td>\n",
       "      <td>0</td>\n",
       "      <td>0</td>\n",
       "      <td>0</td>\n",
       "      <td>...</td>\n",
       "      <td>1.00</td>\n",
       "      <td>0.00</td>\n",
       "      <td>0.00</td>\n",
       "      <td>0.00</td>\n",
       "      <td>0.00</td>\n",
       "      <td>0.00</td>\n",
       "      <td>0.00</td>\n",
       "      <td>0.00</td>\n",
       "      <td>normal</td>\n",
       "      <td>21</td>\n",
       "    </tr>\n",
       "  </tbody>\n",
       "</table>\n",
       "<p>5 rows × 43 columns</p>\n",
       "</div>"
      ],
      "text/plain": [
       "   duration protocol_type   service flag  src_bytes  dst_bytes  land  \\\n",
       "0         0           tcp  ftp_data   SF        491          0     0   \n",
       "1         0           udp     other   SF        146          0     0   \n",
       "2         0           tcp   private   S0          0          0     0   \n",
       "3         0           tcp      http   SF        232       8153     0   \n",
       "4         0           tcp      http   SF        199        420     0   \n",
       "\n",
       "   wrong_fragment  urgent  hot  ...  dst_host_same_srv_rate  \\\n",
       "0               0       0    0  ...                    0.17   \n",
       "1               0       0    0  ...                    0.00   \n",
       "2               0       0    0  ...                    0.10   \n",
       "3               0       0    0  ...                    1.00   \n",
       "4               0       0    0  ...                    1.00   \n",
       "\n",
       "   dst_host_diff_srv_rate  dst_host_same_src_port_rate  \\\n",
       "0                    0.03                         0.17   \n",
       "1                    0.60                         0.88   \n",
       "2                    0.05                         0.00   \n",
       "3                    0.00                         0.03   \n",
       "4                    0.00                         0.00   \n",
       "\n",
       "   dst_host_srv_diff_host_rate  dst_host_serror_rate  \\\n",
       "0                         0.00                  0.00   \n",
       "1                         0.00                  0.00   \n",
       "2                         0.00                  1.00   \n",
       "3                         0.04                  0.03   \n",
       "4                         0.00                  0.00   \n",
       "\n",
       "   dst_host_srv_serror_rate  dst_host_rerror_rate  dst_host_srv_rerror_rate  \\\n",
       "0                      0.00                  0.05                      0.00   \n",
       "1                      0.00                  0.00                      0.00   \n",
       "2                      1.00                  0.00                      0.00   \n",
       "3                      0.01                  0.00                      0.01   \n",
       "4                      0.00                  0.00                      0.00   \n",
       "\n",
       "   outcome  level  \n",
       "0   normal     20  \n",
       "1   normal     15  \n",
       "2  neptune     19  \n",
       "3   normal     21  \n",
       "4   normal     21  \n",
       "\n",
       "[5 rows x 43 columns]"
      ]
     },
     "execution_count": 2,
     "metadata": {},
     "output_type": "execute_result"
    }
   ],
   "source": [
    "import numpy as np\n",
    "import pandas as pd\n",
    "from keras.models import Sequential\n",
    "from keras.layers import Dense ,Activation\n",
    "from keras.optimizers import Adam\n",
    "\n",
    "columns = (['duration','protocol_type','service','flag',\n",
    "            'src_bytes','dst_bytes','land','wrong_fragment','urgent','hot'\n",
    ",'num_failed_logins','logged_in','num_compromised','root_shell',\n",
    "            'su_attempted','num_root','num_file_creations'\n",
    ",'num_shells','num_access_files','num_outbound_cmds',\n",
    "            'is_host_login','is_guest_login','count','srv_count','serror_rate'\n",
    ",'srv_serror_rate','rerror_rate','srv_rerror_rate',\n",
    "            'same_srv_rate','diff_srv_rate','srv_diff_host_rate',\n",
    "            'dst_host_count','dst_host_srv_count'\n",
    ",'dst_host_same_srv_rate','dst_host_diff_srv_rate',\n",
    "            'dst_host_same_src_port_rate','dst_host_srv_diff_host_rate',\n",
    "            'dst_host_serror_rate'\n",
    ",'dst_host_srv_serror_rate','dst_host_rerror_rate',\n",
    "            'dst_host_srv_rerror_rate','outcome','level'])\n",
    "\n",
    "\n",
    "df_train = pd.read_csv(\"/home/yesser/Downloads/intrusion/KDDTrain+.txt\", header=None)\n",
    "df_test = pd.read_csv(\"/home/yesser/Downloads/intrusion/KDDTest+.txt\",  header=None)\n",
    "\n",
    "df = pd.concat([df_train, df_test], ignore_index=True)\n",
    "df.columns = columns\n",
    "df.head()"
   ]
  },
  {
   "cell_type": "code",
   "execution_count": null,
   "id": "fe0541c4",
   "metadata": {},
   "outputs": [],
   "source": [
    "df.shape"
   ]
  },
  {
   "cell_type": "code",
   "execution_count": null,
   "id": "d687f5ae",
   "metadata": {
    "execution": {
     "iopub.execute_input": "2023-05-16T17:09:37.161239Z",
     "iopub.status.busy": "2023-05-16T17:09:37.160373Z",
     "iopub.status.idle": "2023-05-16T17:09:37.242704Z",
     "shell.execute_reply": "2023-05-16T17:09:37.241896Z",
     "shell.execute_reply.started": "2023-05-16T17:09:37.161202Z"
    }
   },
   "outputs": [],
   "source": [
    "labels = []\n",
    "for i in df[\"outcome\"]:\n",
    "    if i == \"normal\":\n",
    "        labels.append(0)\n",
    "    else: labels.append(1)\n",
    "        \n",
    "labels = np.array(labels)"
   ]
  },
  {
   "cell_type": "code",
   "execution_count": null,
   "id": "da191eb1",
   "metadata": {
    "execution": {
     "iopub.execute_input": "2023-05-16T17:09:37.244767Z",
     "iopub.status.busy": "2023-05-16T17:09:37.244409Z",
     "iopub.status.idle": "2023-05-16T17:09:37.265747Z",
     "shell.execute_reply": "2023-05-16T17:09:37.264477Z",
     "shell.execute_reply.started": "2023-05-16T17:09:37.244736Z"
    }
   },
   "outputs": [],
   "source": [
    "df = df.drop([\"outcome\"],axis=1)"
   ]
  },
  {
   "cell_type": "code",
   "execution_count": null,
   "id": "813faa85",
   "metadata": {
    "execution": {
     "iopub.execute_input": "2023-05-16T17:09:37.268658Z",
     "iopub.status.busy": "2023-05-16T17:09:37.267882Z",
     "iopub.status.idle": "2023-05-16T17:09:37.275112Z",
     "shell.execute_reply": "2023-05-16T17:09:37.273895Z",
     "shell.execute_reply.started": "2023-05-16T17:09:37.268619Z"
    }
   },
   "outputs": [],
   "source": [
    "def make_dict(l):\n",
    "    d = {}\n",
    "    s = set(l)\n",
    "    for e,i in enumerate(s):\n",
    "        d[i] = e\n",
    "    return d\n",
    "        "
   ]
  },
  {
   "cell_type": "code",
   "execution_count": null,
   "id": "d7579672",
   "metadata": {
    "execution": {
     "iopub.execute_input": "2023-05-16T17:09:37.280118Z",
     "iopub.status.busy": "2023-05-16T17:09:37.278836Z",
     "iopub.status.idle": "2023-05-16T17:09:37.348599Z",
     "shell.execute_reply": "2023-05-16T17:09:37.347828Z",
     "shell.execute_reply.started": "2023-05-16T17:09:37.280082Z"
    }
   },
   "outputs": [],
   "source": [
    "dict_protocol = make_dict(df['protocol_type'])\n",
    "dict_service = make_dict(df['service'])\n",
    "dict_flag = make_dict(df['flag'])"
   ]
  },
  {
   "cell_type": "code",
   "execution_count": null,
   "id": "738b9bef",
   "metadata": {
    "execution": {
     "iopub.execute_input": "2023-05-16T17:09:37.350654Z",
     "iopub.status.busy": "2023-05-16T17:09:37.350282Z",
     "iopub.status.idle": "2023-05-16T17:09:37.358925Z",
     "shell.execute_reply": "2023-05-16T17:09:37.356970Z",
     "shell.execute_reply.started": "2023-05-16T17:09:37.350623Z"
    }
   },
   "outputs": [],
   "source": [
    "dict_flag"
   ]
  },
  {
   "cell_type": "code",
   "execution_count": null,
   "id": "cc7cb79c",
   "metadata": {
    "execution": {
     "iopub.execute_input": "2023-05-16T17:09:37.360411Z",
     "iopub.status.busy": "2023-05-16T17:09:37.360156Z",
     "iopub.status.idle": "2023-05-16T17:09:37.416536Z",
     "shell.execute_reply": "2023-05-16T17:09:37.415752Z",
     "shell.execute_reply.started": "2023-05-16T17:09:37.360389Z"
    }
   },
   "outputs": [],
   "source": [
    "df['flag'] = df['flag'].map(dict_flag)\n",
    "df['protocol_type'] = df['protocol_type'].map(dict_protocol)\n",
    "df['service'] = df['service'].map(dict_service)\n",
    "\n",
    "df_test['flag'] = df['flag'].map(dict_flag)\n",
    "df_test['protocol_type'] = df['protocol_type'].map(dict_protocol)\n",
    "df['service'] = df['service'].map(dict_service)"
   ]
  },
  {
   "cell_type": "code",
   "execution_count": null,
   "id": "966a3431",
   "metadata": {
    "execution": {
     "iopub.execute_input": "2023-05-16T17:09:37.439045Z",
     "iopub.status.busy": "2023-05-16T17:09:37.438552Z",
     "iopub.status.idle": "2023-05-16T17:09:37.472022Z",
     "shell.execute_reply": "2023-05-16T17:09:37.470959Z",
     "shell.execute_reply.started": "2023-05-16T17:09:37.438976Z"
    }
   },
   "outputs": [],
   "source": [
    "df.head()"
   ]
  },
  {
   "cell_type": "code",
   "execution_count": null,
   "id": "56be1948",
   "metadata": {},
   "outputs": [],
   "source": [
    "from sklearn.preprocessing import MinMaxScaler\n",
    "\n",
    "l = ['protocol_type', 'service', 'flag','level']\n",
    "\n",
    "scaler = MinMaxScaler()\n",
    "\n",
    "for col in df.columns:\n",
    "    if col not in l:\n",
    "        scaler.fit(np.array(df[col]).reshape(-1, 1))\n",
    "        df[col] = scaler.transform(np.array(df[col]).reshape(-1, 1))\n",
    "        df_test[col] = scaler.transform(np.array(df_test[col]).reshape(-1, 1))\n",
    "\n"
   ]
  },
  {
   "cell_type": "code",
   "execution_count": null,
   "id": "98aab275",
   "metadata": {},
   "outputs": [],
   "source": [
    "df.head()"
   ]
  },
  {
   "cell_type": "code",
   "execution_count": 83,
   "id": "6fbaebfe",
   "metadata": {
    "execution": {
     "iopub.execute_input": "2023-05-16T17:09:37.482264Z",
     "iopub.status.busy": "2023-05-16T17:09:37.481492Z",
     "iopub.status.idle": "2023-05-16T17:09:37.549064Z",
     "shell.execute_reply": "2023-05-16T17:09:37.548255Z",
     "shell.execute_reply.started": "2023-05-16T17:09:37.482227Z"
    }
   },
   "outputs": [],
   "source": [
    "from sklearn.model_selection import train_test_split\n",
    "\n",
    "X_train, X_test, y_train, y_test = train_test_split(df, labels, test_size=0.2, random_state=42)\n",
    "X_train, X_val, y_train, y_val = train_test_split(X_train, y_train, test_size=0.2, random_state=42)"
   ]
  },
  {
   "cell_type": "code",
   "execution_count": 84,
   "id": "417f0a62",
   "metadata": {
    "execution": {
     "iopub.execute_input": "2023-05-16T17:11:30.887581Z",
     "iopub.status.busy": "2023-05-16T17:11:30.886724Z"
    }
   },
   "outputs": [
    {
     "name": "stdout",
     "output_type": "stream",
     "text": [
      "Model: \"sequential_4\"\n",
      "_________________________________________________________________\n",
      " Layer (type)                Output Shape              Param #   \n",
      "=================================================================\n",
      " dense_10 (Dense)            (None, 128)               5504      \n",
      "                                                                 \n",
      " activation_7 (Activation)   (None, 128)               0         \n",
      "                                                                 \n",
      " dense_11 (Dense)            (None, 64)                8256      \n",
      "                                                                 \n",
      " activation_8 (Activation)   (None, 64)                0         \n",
      "                                                                 \n",
      " dense_12 (Dense)            (None, 32)                2080      \n",
      "                                                                 \n",
      " dense_13 (Dense)            (None, 1)                 33        \n",
      "                                                                 \n",
      " activation_9 (Activation)   (None, 1)                 0         \n",
      "                                                                 \n",
      "=================================================================\n",
      "Total params: 15,873\n",
      "Trainable params: 15,873\n",
      "Non-trainable params: 0\n",
      "_________________________________________________________________\n"
     ]
    },
    {
     "name": "stderr",
     "output_type": "stream",
     "text": [
      "2023-05-16 18:55:26.826998: W tensorflow/tsl/framework/cpu_allocator_impl.cc:82] Allocation of 31936800 exceeds 10% of free system memory.\n"
     ]
    },
    {
     "name": "stdout",
     "output_type": "stream",
     "text": [
      "Epoch 1/5\n",
      "1486/1486 [==============================] - 19s 10ms/step - loss: 0.0735 - accuracy: 0.9737 - val_loss: 0.0437 - val_accuracy: 0.9851\n",
      "Epoch 2/5\n",
      "1486/1486 [==============================] - 5s 3ms/step - loss: 0.0343 - accuracy: 0.9875 - val_loss: 0.0305 - val_accuracy: 0.9901\n",
      "Epoch 3/5\n",
      "1486/1486 [==============================] - 5s 4ms/step - loss: 0.0278 - accuracy: 0.9897 - val_loss: 0.0257 - val_accuracy: 0.9910\n",
      "Epoch 4/5\n",
      "1486/1486 [==============================] - 5s 3ms/step - loss: 0.0242 - accuracy: 0.9912 - val_loss: 0.0213 - val_accuracy: 0.9926\n",
      "Epoch 5/5\n",
      "1486/1486 [==============================] - 5s 3ms/step - loss: 0.0205 - accuracy: 0.9922 - val_loss: 0.0178 - val_accuracy: 0.9930\n"
     ]
    }
   ],
   "source": [
    "model = Sequential()\n",
    "model.add(Dense(128, input_shape=(df_train_data.shape[1],)))\n",
    "model.add(Activation(\"relu\"))\n",
    "model.add(Dense(64))\n",
    "model.add(Activation(\"relu\"))\n",
    "model.add(Dense(32))\n",
    "model.add(Dense(1))\n",
    "model.add(Activation(\"sigmoid\"))\n",
    "\n",
    "model.compile(optimizer=Adam(),\n",
    "              loss=\"binary_crossentropy\",\n",
    "              metrics=[\"accuracy\"])\n",
    "\n",
    "model.summary()\n",
    "\n",
    "history = model.fit(X_train, y_train, epochs=5, batch_size=64, \n",
    "                    validation_data=(X_val, y_val))\n"
   ]
  },
  {
   "cell_type": "code",
   "execution_count": 100,
   "id": "55763221",
   "metadata": {
    "execution": {
     "iopub.execute_input": "2023-05-16T17:11:00.283313Z",
     "iopub.status.busy": "2023-05-16T17:11:00.283007Z",
     "iopub.status.idle": "2023-05-16T17:11:02.927454Z",
     "shell.execute_reply": "2023-05-16T17:11:02.926365Z",
     "shell.execute_reply.started": "2023-05-16T17:11:00.283286Z"
    }
   },
   "outputs": [
    {
     "name": "stdout",
     "output_type": "stream",
     "text": [
      "929/929 [==============================] - 2s 2ms/step - loss: 0.0197 - accuracy: 0.9927\n",
      "Accuracy :  0.9927282333374023\n",
      "Loss :  0.01974855549633503\n"
     ]
    }
   ],
   "source": [
    "met = model.evaluate(X_test, y_test)\n",
    "print(\"Accuracy : \",met[1])\n",
    "print(\"Loss : \",met[0])"
   ]
  },
  {
   "cell_type": "code",
   "execution_count": 95,
   "id": "40116d8a",
   "metadata": {},
   "outputs": [
    {
     "name": "stdout",
     "output_type": "stream",
     "text": [
      "929/929 [==============================] - 2s 2ms/step\n"
     ]
    },
    {
     "data": {
      "text/plain": [
       "array([[15303,   147],\n",
       "       [   69, 14185]])"
      ]
     },
     "execution_count": 95,
     "metadata": {},
     "output_type": "execute_result"
    }
   ],
   "source": [
    "from sklearn.metrics import confusion_matrix\n",
    "\n",
    "y_pred = []\n",
    "for p in model.predict(X_test):\n",
    "    y_pred.append(round(p[0]))\n",
    "\n",
    "cm = confusion_matrix(y_test, y_pred)\n",
    "cm"
   ]
  },
  {
   "cell_type": "code",
   "execution_count": 97,
   "id": "a63d0135",
   "metadata": {
    "execution": {
     "iopub.execute_input": "2023-05-16T17:11:02.936173Z",
     "iopub.status.busy": "2023-05-16T17:11:02.935702Z",
     "iopub.status.idle": "2023-05-16T17:11:02.959656Z",
     "shell.execute_reply": "2023-05-16T17:11:02.958778Z",
     "shell.execute_reply.started": "2023-05-16T17:11:02.936139Z"
    }
   },
   "outputs": [
    {
     "name": "stdout",
     "output_type": "stream",
     "text": [
      "Sauvegarde\n"
     ]
    }
   ],
   "source": [
    "\"\"\"\n",
    "#saving a model\n",
    "\n",
    "model_json = model.to_json()\n",
    "with open(\"model99\"+\".json\", \"w\") as json_file:\n",
    "    json_file.write(model_json)\n",
    "model.save_weights(\"model99\"+\".h5\")\n",
    "print(\"Sauvegarde\")\"\"\""
   ]
  },
  {
   "cell_type": "code",
   "execution_count": 103,
   "id": "38197594",
   "metadata": {},
   "outputs": [
    {
     "data": {
      "text/plain": [
       "'\\n#loading a saved model\\n\\nfrom tensorflow.keras.models import model_from_json\\n\\njson_file = open(\"model99\"+\\'.json\\', \\'r\\')\\nloaded_model_json = json_file.read()\\njson_file.close()\\nloaded_model = model_from_json(loaded_model_json)\\nloaded_model.load_weights(\"model99\"+\".h5\")\\n\\nloaded_model.compile(optimizer=Adam(),\\n              loss=\"binary_crossentropy\",\\n              metrics=[\"accuracy\"])\\n\\nmet = loaded_model.evaluate(X_test, y_test)\\nprint(\"Accuracy : \",met[1])\\nprint(\"Loss : \",met[0])'"
      ]
     },
     "execution_count": 103,
     "metadata": {},
     "output_type": "execute_result"
    }
   ],
   "source": [
    "\"\"\"\n",
    "#loading a saved model\n",
    "\n",
    "from tensorflow.keras.models import model_from_json\n",
    "\n",
    "json_file = open(\"model99\"+'.json', 'r')\n",
    "loaded_model_json = json_file.read()\n",
    "json_file.close()\n",
    "loaded_model = model_from_json(loaded_model_json)\n",
    "loaded_model.load_weights(\"model99\"+\".h5\")\n",
    "\n",
    "loaded_model.compile(optimizer=Adam(),\n",
    "              loss=\"binary_crossentropy\",\n",
    "              metrics=[\"accuracy\"])\n",
    "\n",
    "met = loaded_model.evaluate(X_test, y_test)\n",
    "print(\"Accuracy : \",met[1])\n",
    "print(\"Loss : \",met[0])\"\"\""
   ]
  }
 ],
 "metadata": {
  "kernelspec": {
   "display_name": "Python 3 (ipykernel)",
   "language": "python",
   "name": "python3"
  },
  "language_info": {
   "codemirror_mode": {
    "name": "ipython",
    "version": 3
   },
   "file_extension": ".py",
   "mimetype": "text/x-python",
   "name": "python",
   "nbconvert_exporter": "python",
   "pygments_lexer": "ipython3",
   "version": "3.8.16"
  }
 },
 "nbformat": 4,
 "nbformat_minor": 5
}
